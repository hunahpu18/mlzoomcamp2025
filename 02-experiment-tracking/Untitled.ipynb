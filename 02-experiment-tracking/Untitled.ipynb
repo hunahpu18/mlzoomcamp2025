{
 "cells": [
  {
   "cell_type": "markdown",
   "id": "d3f0d1d3-85f4-4a1e-82f0-7595b6b2545b",
   "metadata": {},
   "source": [
    "Question 1. Install MLflow (1 point) "
   ]
  },
  {
   "cell_type": "code",
   "execution_count": 1,
   "id": "9f1048be-8ff2-4727-abf9-48bee288e017",
   "metadata": {},
   "outputs": [
    {
     "name": "stdout",
     "output_type": "stream",
     "text": [
      "\n",
      "\u001b[1m[\u001b[0m\u001b[34;49mnotice\u001b[0m\u001b[1;39;49m]\u001b[0m\u001b[39;49m A new release of pip is available: \u001b[0m\u001b[31;49m24.2\u001b[0m\u001b[39;49m -> \u001b[0m\u001b[32;49m25.1.1\u001b[0m\n",
      "\u001b[1m[\u001b[0m\u001b[34;49mnotice\u001b[0m\u001b[1;39;49m]\u001b[0m\u001b[39;49m To update, run: \u001b[0m\u001b[32;49mpip install --upgrade pip\u001b[0m\n"
     ]
    }
   ],
   "source": [
    "!pip install mlflow --quiet"
   ]
  },
  {
   "cell_type": "code",
   "execution_count": 2,
   "id": "bea63f1c-6e72-45b1-a2a4-cd39f2cbba11",
   "metadata": {},
   "outputs": [
    {
     "name": "stdout",
     "output_type": "stream",
     "text": [
      "mlflow, version 2.22.0\n"
     ]
    }
   ],
   "source": [
    "!mlflow --version"
   ]
  },
  {
   "cell_type": "markdown",
   "id": "e65b7067-eaf6-418f-8435-812a957b4c68",
   "metadata": {},
   "source": [
    "Q2. Download and preprocess the data"
   ]
  },
  {
   "cell_type": "code",
   "execution_count": 3,
   "id": "27c8a067-31a7-4fdd-98f6-ae988723a62b",
   "metadata": {},
   "outputs": [],
   "source": [
    "%run preprocess_data.py --raw_data_path ./data --dest_path ./output"
   ]
  },
  {
   "cell_type": "code",
   "execution_count": 4,
   "id": "f28f0940-41ba-4cd6-8853-71bbf3dda6c1",
   "metadata": {},
   "outputs": [
    {
     "name": "stdout",
     "output_type": "stream",
     "text": [
      "dv.pkl\ttest.pkl  train.pkl  val.pkl\n"
     ]
    }
   ],
   "source": [
    "!ls output/"
   ]
  },
  {
   "cell_type": "markdown",
   "id": "d9f90744-9ab1-4b03-ab2d-d3d962db6869",
   "metadata": {},
   "source": [
    "Q3. Train a model with autolog"
   ]
  },
  {
   "cell_type": "code",
   "execution_count": 9,
   "id": "373bf2f2-86dc-43bb-9802-d508a750c2b3",
   "metadata": {},
   "outputs": [],
   "source": [
    "%run train.py"
   ]
  },
  {
   "cell_type": "markdown",
   "id": "d411ff8d-b394-4b7f-b126-f253aba9a9f3",
   "metadata": {},
   "source": [
    "Q4. Launch the tracking server locally"
   ]
  },
  {
   "cell_type": "code",
   "execution_count": 13,
   "id": "5e883f71-4583-438e-a80a-dcd79478a8f5",
   "metadata": {},
   "outputs": [
    {
     "name": "stdout",
     "output_type": "stream",
     "text": [
      "2025/05/27 00:32:10 INFO mlflow.store.db.utils: Creating initial MLflow database tables...\n",
      "2025/05/27 00:32:10 INFO mlflow.store.db.utils: Updating database tables\n",
      "INFO  [alembic.runtime.migration] Context impl SQLiteImpl.\n",
      "INFO  [alembic.runtime.migration] Will assume non-transactional DDL.\n",
      "INFO  [alembic.runtime.migration] Running upgrade  -> 451aebb31d03, add metric step\n",
      "INFO  [alembic.runtime.migration] Running upgrade 451aebb31d03 -> 90e64c465722, migrate user column to tags\n",
      "INFO  [alembic.runtime.migration] Running upgrade 90e64c465722 -> 181f10493468, allow nulls for metric values\n",
      "INFO  [alembic.runtime.migration] Running upgrade 181f10493468 -> df50e92ffc5e, Add Experiment Tags Table\n",
      "INFO  [alembic.runtime.migration] Running upgrade df50e92ffc5e -> 7ac759974ad8, Update run tags with larger limit\n",
      "INFO  [alembic.runtime.migration] Running upgrade 7ac759974ad8 -> 89d4b8295536, create latest metrics table\n",
      "INFO  [89d4b8295536_create_latest_metrics_table_py] Migration complete!\n",
      "INFO  [alembic.runtime.migration] Running upgrade 89d4b8295536 -> 2b4d017a5e9b, add model registry tables to db\n",
      "INFO  [2b4d017a5e9b_add_model_registry_tables_to_db_py] Adding registered_models and model_versions tables to database.\n",
      "INFO  [2b4d017a5e9b_add_model_registry_tables_to_db_py] Migration complete!\n",
      "INFO  [alembic.runtime.migration] Running upgrade 2b4d017a5e9b -> cfd24bdc0731, Update run status constraint with killed\n",
      "INFO  [alembic.runtime.migration] Running upgrade cfd24bdc0731 -> 0a8213491aaa, drop_duplicate_killed_constraint\n",
      "INFO  [alembic.runtime.migration] Running upgrade 0a8213491aaa -> 728d730b5ebd, add registered model tags table\n",
      "INFO  [alembic.runtime.migration] Running upgrade 728d730b5ebd -> 27a6a02d2cf1, add model version tags table\n",
      "INFO  [alembic.runtime.migration] Running upgrade 27a6a02d2cf1 -> 84291f40a231, add run_link to model_version\n",
      "INFO  [alembic.runtime.migration] Running upgrade 84291f40a231 -> a8c4a736bde6, allow nulls for run_id\n",
      "INFO  [alembic.runtime.migration] Running upgrade a8c4a736bde6 -> 39d1c3be5f05, add_is_nan_constraint_for_metrics_tables_if_necessary\n",
      "INFO  [alembic.runtime.migration] Running upgrade 39d1c3be5f05 -> c48cb773bb87, reset_default_value_for_is_nan_in_metrics_table_for_mysql\n",
      "INFO  [alembic.runtime.migration] Running upgrade c48cb773bb87 -> bd07f7e963c5, create index on run_uuid\n",
      "INFO  [alembic.runtime.migration] Running upgrade bd07f7e963c5 -> 0c779009ac13, add deleted_time field to runs table\n",
      "INFO  [alembic.runtime.migration] Running upgrade 0c779009ac13 -> cc1f77228345, change param value length to 500\n",
      "INFO  [alembic.runtime.migration] Running upgrade cc1f77228345 -> 97727af70f4d, Add creation_time and last_update_time to experiments table\n",
      "INFO  [alembic.runtime.migration] Running upgrade 97727af70f4d -> 3500859a5d39, Add Model Aliases table\n",
      "INFO  [alembic.runtime.migration] Running upgrade 3500859a5d39 -> 7f2a7d5fae7d, add datasets inputs input_tags tables\n",
      "INFO  [alembic.runtime.migration] Running upgrade 7f2a7d5fae7d -> 2d6e25af4d3e, increase max param val length from 500 to 8000\n",
      "INFO  [alembic.runtime.migration] Running upgrade 2d6e25af4d3e -> acf3f17fdcc7, add storage location field to model versions\n",
      "INFO  [alembic.runtime.migration] Running upgrade acf3f17fdcc7 -> 867495a8f9d4, add trace tables\n",
      "INFO  [alembic.runtime.migration] Running upgrade 867495a8f9d4 -> 5b0e9adcef9c, add cascade deletion to trace tables foreign keys\n",
      "INFO  [alembic.runtime.migration] Running upgrade 5b0e9adcef9c -> 4465047574b1, increase max dataset schema size\n",
      "INFO  [alembic.runtime.migration] Running upgrade 4465047574b1 -> f5a4f2784254, increase run tag value limit to 8000\n",
      "INFO  [alembic.runtime.migration] Running upgrade f5a4f2784254 -> 0584bdc529eb, add cascading deletion to datasets from experiments\n",
      "INFO  [alembic.runtime.migration] Context impl SQLiteImpl.\n",
      "INFO  [alembic.runtime.migration] Will assume non-transactional DDL.\n",
      "[2025-05-27 00:32:11 -0600] [736334] [INFO] Starting gunicorn 23.0.0\n",
      "[2025-05-27 00:32:11 -0600] [736334] [INFO] Listening at: http://127.0.0.1:5000 (736334)\n",
      "[2025-05-27 00:32:11 -0600] [736334] [INFO] Using worker: sync\n",
      "[2025-05-27 00:32:11 -0600] [736336] [INFO] Booting worker with pid: 736336\n",
      "[2025-05-27 00:32:11 -0600] [736337] [INFO] Booting worker with pid: 736337\n",
      "[2025-05-27 00:32:12 -0600] [736338] [INFO] Booting worker with pid: 736338\n",
      "[2025-05-27 00:32:12 -0600] [736339] [INFO] Booting worker with pid: 736339\n",
      "^C\n",
      "[2025-05-27 00:36:59 -0600] [736334] [INFO] Handling signal: int\n",
      "[2025-05-27 00:36:59 -0600] [736337] [INFO] Worker exiting (pid: 736337)\n",
      "[2025-05-27 00:36:59 -0600] [736336] [INFO] Worker exiting (pid: 736336)\n",
      "[2025-05-27 00:36:59 -0600] [736338] [INFO] Worker exiting (pid: 736338)\n",
      "[2025-05-27 00:36:59 -0600] [736339] [INFO] Worker exiting (pid: 736339)\n"
     ]
    }
   ],
   "source": [
    "!mlflow server --backend-store-uri sqlite:///backed.db --default-artifact-root ./artifacts"
   ]
  },
  {
   "cell_type": "markdown",
   "id": "602b54a0-b202-4e44-a693-0b63790d6493",
   "metadata": {},
   "source": [
    "Q5. Tune model hyperparameters"
   ]
  },
  {
   "cell_type": "code",
   "execution_count": 16,
   "id": "826a80f1-d714-4576-bad4-f6dd7bda3645",
   "metadata": {},
   "outputs": [
    {
     "name": "stdout",
     "output_type": "stream",
     "text": [
      "\n",
      "\u001b[1m[\u001b[0m\u001b[34;49mnotice\u001b[0m\u001b[1;39;49m]\u001b[0m\u001b[39;49m A new release of pip is available: \u001b[0m\u001b[31;49m24.2\u001b[0m\u001b[39;49m -> \u001b[0m\u001b[32;49m25.1.1\u001b[0m\n",
      "\u001b[1m[\u001b[0m\u001b[34;49mnotice\u001b[0m\u001b[1;39;49m]\u001b[0m\u001b[39;49m To update, run: \u001b[0m\u001b[32;49mpip install --upgrade pip\u001b[0m\n"
     ]
    }
   ],
   "source": [
    "!pip install hyperopt --quiet"
   ]
  },
  {
   "cell_type": "code",
   "execution_count": 20,
   "id": "e0b09dbf-324f-4630-9be8-7ad56aedb527",
   "metadata": {},
   "outputs": [
    {
     "name": "stdout",
     "output_type": "stream",
     "text": [
      "🏃 View run spiffy-mole-421 at: http://127.0.0.1:5000/#/experiments/1/runs/189de0d1430a4dcf8074aa6425d7c165                                                                                                          \n",
      "\n",
      "🧪 View experiment at: http://127.0.0.1:5000/#/experiments/1                                                                                                                                                         \n",
      "\n",
      "🏃 View run rare-fish-299 at: http://127.0.0.1:5000/#/experiments/1/runs/e791d71db0964f069b96eb0cd5a5f6eb                                                                                                            \n",
      "\n",
      "🧪 View experiment at: http://127.0.0.1:5000/#/experiments/1                                                                                                                                                         \n",
      "\n",
      "🏃 View run fearless-flea-626 at: http://127.0.0.1:5000/#/experiments/1/runs/91f76b58e7ae42bc8a8ebc12d2a06641                                                                                                        \n",
      "\n",
      "🧪 View experiment at: http://127.0.0.1:5000/#/experiments/1                                                                                                                                                         \n",
      "\n",
      "🏃 View run powerful-duck-459 at: http://127.0.0.1:5000/#/experiments/1/runs/717a50d8aecc4f599e369535c9d8b6fa                                                                                                        \n",
      "\n",
      "🧪 View experiment at: http://127.0.0.1:5000/#/experiments/1                                                                                                                                                         \n",
      "\n",
      "🏃 View run rogue-sloth-433 at: http://127.0.0.1:5000/#/experiments/1/runs/6412f4e1a6334e23962daa2f2b102301                                                                                                          \n",
      "\n",
      "🧪 View experiment at: http://127.0.0.1:5000/#/experiments/1                                                                                                                                                         \n",
      "\n",
      "🏃 View run upset-snipe-167 at: http://127.0.0.1:5000/#/experiments/1/runs/52bcc48880fb45cabff1fb3a1c214caa                                                                                                          \n",
      "\n",
      "🧪 View experiment at: http://127.0.0.1:5000/#/experiments/1                                                                                                                                                         \n",
      "\n",
      "🏃 View run funny-hog-585 at: http://127.0.0.1:5000/#/experiments/1/runs/e914fccfebaf4f14923e09b77d81cc2c                                                                                                            \n",
      "\n",
      "🧪 View experiment at: http://127.0.0.1:5000/#/experiments/1                                                                                                                                                         \n",
      "\n",
      "🏃 View run resilient-sow-689 at: http://127.0.0.1:5000/#/experiments/1/runs/d6ce2475853a41e99e7ff713a0f2d678                                                                                                        \n",
      "\n",
      "🧪 View experiment at: http://127.0.0.1:5000/#/experiments/1                                                                                                                                                         \n",
      "\n",
      "🏃 View run calm-hound-809 at: http://127.0.0.1:5000/#/experiments/1/runs/08b4dfd9ebba4a0c93a1f668cfbea5d3                                                                                                           \n",
      "\n",
      "🧪 View experiment at: http://127.0.0.1:5000/#/experiments/1                                                                                                                                                         \n",
      "\n",
      "🏃 View run marvelous-swan-975 at: http://127.0.0.1:5000/#/experiments/1/runs/fc53d6f54945474a93ab67f6262e977c                                                                                                       \n",
      "\n",
      "🧪 View experiment at: http://127.0.0.1:5000/#/experiments/1                                                                                                                                                         \n",
      "\n",
      "🏃 View run monumental-mule-592 at: http://127.0.0.1:5000/#/experiments/1/runs/4cb2640737d44ed48566653a5a6cecd7                                                                                                      \n",
      "\n",
      "🧪 View experiment at: http://127.0.0.1:5000/#/experiments/1                                                                                                                                                         \n",
      "\n",
      "🏃 View run illustrious-bug-44 at: http://127.0.0.1:5000/#/experiments/1/runs/a945252076854712826ea3091917c977                                                                                                       \n",
      "\n",
      "🧪 View experiment at: http://127.0.0.1:5000/#/experiments/1                                                                                                                                                         \n",
      "\n",
      "🏃 View run able-shrike-16 at: http://127.0.0.1:5000/#/experiments/1/runs/90b4ac807493430c80c34bd6e8fe7fb2                                                                                                           \n",
      "\n",
      "🧪 View experiment at: http://127.0.0.1:5000/#/experiments/1                                                                                                                                                         \n",
      "\n",
      "🏃 View run monumental-asp-422 at: http://127.0.0.1:5000/#/experiments/1/runs/a0ce420c48b74ca7bd13a7f2e9fe70b3                                                                                                       \n",
      "\n",
      "🧪 View experiment at: http://127.0.0.1:5000/#/experiments/1                                                                                                                                                         \n",
      "\n",
      "🏃 View run resilient-ape-678 at: http://127.0.0.1:5000/#/experiments/1/runs/df1d7f3fa9104c8ca762a2d77b609c47                                                                                                        \n",
      "\n",
      "🧪 View experiment at: http://127.0.0.1:5000/#/experiments/1                                                                                                                                                         \n",
      "\n",
      "100%|███████████████████████████████████████████████████████████████████████████████████████████████████████████████████████████████████████████████| 15/15 [04:34<00:00, 18.32s/trial, best loss: 5.335419588556921]\n"
     ]
    }
   ],
   "source": [
    "%run hpo.py"
   ]
  },
  {
   "cell_type": "code",
   "execution_count": 24,
   "id": "7247b769-9829-4826-ad97-e1a119a8eee0",
   "metadata": {},
   "outputs": [
    {
     "name": "stdout",
     "output_type": "stream",
     "text": [
      "🏃 View run magnificent-moth-208 at: http://127.0.0.1:5000/#/experiments/2/runs/c3deacf84fc74c5ca38223b56b386666\n",
      "🧪 View experiment at: http://127.0.0.1:5000/#/experiments/2\n",
      "🏃 View run polite-gull-822 at: http://127.0.0.1:5000/#/experiments/2/runs/81d94263c5984c16ac2b022bdfbde9a0\n",
      "🧪 View experiment at: http://127.0.0.1:5000/#/experiments/2\n",
      "🏃 View run resilient-mole-465 at: http://127.0.0.1:5000/#/experiments/2/runs/b514b3112e7d4145bad3f59c72b2d350\n",
      "🧪 View experiment at: http://127.0.0.1:5000/#/experiments/2\n",
      "🏃 View run adventurous-doe-267 at: http://127.0.0.1:5000/#/experiments/2/runs/b3e26be7a95c48419dab0f59f3e4d93c\n",
      "🧪 View experiment at: http://127.0.0.1:5000/#/experiments/2\n"
     ]
    },
    {
     "name": "stderr",
     "output_type": "stream",
     "text": [
      "Registered model 'the best' already exists. Creating a new version of this model...\n",
      "2025/05/27 01:04:41 INFO mlflow.store.model_registry.abstract_store: Waiting up to 300 seconds for model version to finish creation. Model name: the best, version 1\n"
     ]
    },
    {
     "name": "stdout",
     "output_type": "stream",
     "text": [
      "🏃 View run dazzling-horse-864 at: http://127.0.0.1:5000/#/experiments/2/runs/4b0ab47559c944b7ab350119fae60696\n",
      "🧪 View experiment at: http://127.0.0.1:5000/#/experiments/2\n",
      "runs:/c3deacf84fc74c5ca38223b56b386666/model\n"
     ]
    },
    {
     "name": "stderr",
     "output_type": "stream",
     "text": [
      "Created version '1' of model 'the best'.\n"
     ]
    }
   ],
   "source": [
    "%run register_model.py"
   ]
  },
  {
   "cell_type": "code",
   "execution_count": null,
   "id": "e5d31106-cf0f-4561-a594-1ab7d8bae19d",
   "metadata": {},
   "outputs": [],
   "source": []
  }
 ],
 "metadata": {
  "kernelspec": {
   "display_name": "Python 3 (ipykernel)",
   "language": "python",
   "name": "python3"
  },
  "language_info": {
   "codemirror_mode": {
    "name": "ipython",
    "version": 3
   },
   "file_extension": ".py",
   "mimetype": "text/x-python",
   "name": "python",
   "nbconvert_exporter": "python",
   "pygments_lexer": "ipython3",
   "version": "3.13.3"
  }
 },
 "nbformat": 4,
 "nbformat_minor": 5
}
